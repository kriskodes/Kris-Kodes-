{
  "nbformat": 4,
  "nbformat_minor": 0,
  "metadata": {
    "colab": {
      "name": "Untitled2.ipynb",
      "provenance": []
    },
    "kernelspec": {
      "name": "python3",
      "display_name": "Python 3"
    }
  },
  "cells": [
    {
      "cell_type": "code",
      "metadata": {
        "colab": {
          "base_uri": "https://localhost:8080/"
        },
        "id": "wutxiQE1l9qw",
        "outputId": "b4a6d3af-b5e8-4d4c-d026-4248fe5b6f33"
      },
      "source": [
        "print(\"Привет, Мир!\")"
      ],
      "execution_count": 1,
      "outputs": [
        {
          "output_type": "stream",
          "text": [
            "Привет, Мир!\n"
          ],
          "name": "stdout"
        }
      ]
    },
    {
      "cell_type": "markdown",
      "metadata": {
        "id": "CVundSaHno_O"
      },
      "source": [
        "Кодес Кристина Максимовна, КИ19-23, 20.02"
      ]
    }
  ]
}